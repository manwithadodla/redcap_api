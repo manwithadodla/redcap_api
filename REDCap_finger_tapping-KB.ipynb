{
 "cells": [
  {
   "cell_type": "code",
   "execution_count": 1,
   "metadata": {},
   "outputs": [],
   "source": [
    "import pandas as pd\n",
    "import numpy as np\n",
    "import redcap\n",
    "\n",
    "API_Token = ''\n",
    "project = redcap.Project('https://redcap.prc.utexas.edu/redcap/api/', API_Token)\n",
    "\n",
    "data_csv_path = '/Users/md35727/Downloads/data (20)/data.csv'\n",
    "data_folder_path = '/Users/md35727/Downloads/data (20)/'\n",
    "participant_identifier_var = \"participant_info:1\"\n",
    "\n",
    "participant_info = pd.read_csv(data_csv_path, index_col= False)"
   ]
  },
  {
   "cell_type": "code",
   "execution_count": 4,
   "metadata": {},
   "outputs": [
    {
     "name": "stdout",
     "output_type": "stream",
     "text": [
      "Participant 1 is already in REDCap.\n"
     ]
    }
   ],
   "source": [
    "for i in range(len(participant_info.index)):\n",
    "    duplicate_participant = False\n",
    "    participant_id = participant_info.loc[i, participant_identifier_var]\n",
    "    textfile = participant_info.loc[i, \"tapping_task:1\"]\n",
    "    subset = project.export_records(fields=['participant_id', 'finger_tapping_task_ftt_kb_complete'])\n",
    "    for s in subset:\n",
    "        if (str(s['participant_id']) == str(participant_id) and s['finger_tapping_task_ftt_kb_complete'] == '1'):\n",
    "            duplicate_participant = True\n",
    "            print('Participant ' + str(participant_id) + ' is already in REDCap.')\n",
    "    if not duplicate_participant:\n",
    "        if(type(textfile) == str):\n",
    "            with open(data_folder_path + textfile) as myfile:\n",
    "                lines = list(myfile)\n",
    "                block1_dom = []\n",
    "                block2_dom = []\n",
    "                block3_dom = []\n",
    "                block1_nondom = []\n",
    "                block2_nondom = []\n",
    "                block3_nondom = []            \n",
    "\n",
    "                for line in lines:\n",
    "                    if (line.split(\" \")[0] == str(3)):\n",
    "                        block1_dom.append((line.split(\" \")[1]).split('\\n')[0])\n",
    "                    if (line.split(\" \")[0] == str(4)):\n",
    "                        block2_dom.append((line.split(\" \")[1]).split('\\n')[0])\n",
    "                    if (line.split(\" \")[0] == str(5)):\n",
    "                        block3_dom.append((line.split(\" \")[1]).split('\\n')[0])\n",
    "                    if (line.split(\" \")[0] == str(6)):\n",
    "                        block1_nondom.append((line.split(\" \")[1]).split('\\n')[0])\n",
    "                    if (line.split(\" \")[0] == str(7)):\n",
    "                        block2_nondom.append((line.split(\" \")[1]).split('\\n')[0])\n",
    "                    if (line.split(\" \")[0] == str(8)):\n",
    "                        block3_nondom.append((line.split(\" \")[1]).split('\\n')[0])\n",
    "\n",
    "                data_dict = {'participant_id': int(participant_id), \n",
    "                             'finger_tapping_task_ftt_kb_complete': 1}\n",
    "                for i in range(len(block1_dom)):\n",
    "                    if(i < 9):\n",
    "                        data_dict['ftt_b1_d0' + str(i+1)] = block1_dom[i]\n",
    "                    elif(i >= 9):\n",
    "                        data_dict['ftt_b1_d' + str(i+1)] = block1_dom[i]\n",
    "                for i in range(len(block2_dom)):\n",
    "                    if(i < 9):\n",
    "                        data_dict['ftt_b2_d0' + str(i+1)] = block2_dom[i]\n",
    "                    elif(i >= 9):\n",
    "                        data_dict['ftt_b2_d' + str(i+1)] = block2_dom[i]\n",
    "                for i in range(len(block3_dom)):\n",
    "                    if(i < 9):\n",
    "                        data_dict['ftt_b3_d0' + str(i+1)] = block3_dom[i]\n",
    "                    elif(i >= 9):\n",
    "                        data_dict['ftt_b3_d' + str(i+1)] = block3_dom[i]\n",
    "                for i in range(len(block1_nondom)):\n",
    "                    if(i < 9):\n",
    "                        data_dict['ftt_b1_nd0' + str(i+1)] = block1_nondom[i]\n",
    "                    elif(i >= 9):\n",
    "                        data_dict['ftt_b1_nd' + str(i+1)] = block1_nondom[i]\n",
    "                for i in range(len(block2_nondom)):\n",
    "                    if(i < 9):\n",
    "                        data_dict['ftt_b2_nd0' + str(i+1)] = block2_nondom[i]\n",
    "                    elif(i >= 9):\n",
    "                        data_dict['ftt_b2_nd' + str(i+1)] = block2_nondom[i]\n",
    "                for i in range(len(block3_nondom)):\n",
    "                    if(i < 9):\n",
    "                        data_dict['ftt_b3_nd0' + str(i+1)] = block3_nondom[i]\n",
    "                    elif(i >= 9):\n",
    "                        data_dict['ftt_b3_nd' + str(i+1)] = block3_nondom[i]\n",
    "\n",
    "                import_data = project.import_records([data_dict])\n",
    "                print('Participant ' + str(participant_id) + ' data has been added to REDCap.')"
   ]
  },
  {
   "cell_type": "code",
   "execution_count": null,
   "metadata": {},
   "outputs": [],
   "source": []
  }
 ],
 "metadata": {
  "kernelspec": {
   "display_name": "Python 3",
   "language": "python",
   "name": "python3"
  },
  "language_info": {
   "codemirror_mode": {
    "name": "ipython",
    "version": 3
   },
   "file_extension": ".py",
   "mimetype": "text/x-python",
   "name": "python",
   "nbconvert_exporter": "python",
   "pygments_lexer": "ipython3",
   "version": "3.6.8"
  }
 },
 "nbformat": 4,
 "nbformat_minor": 2
}
