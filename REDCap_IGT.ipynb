{
 "cells": [
  {
   "cell_type": "code",
   "execution_count": 32,
   "metadata": {},
   "outputs": [],
   "source": [
    "import pandas as pd\n",
    "import numpy as np\n",
    "import redcap\n",
    "\n",
    "API_Token = ''\n",
    "project = redcap.Project('https://redcap.prc.utexas.edu/redcap/api/', API_Token)\n",
    "\n",
    "data_csv_path = '/Users/md35727/Downloads/data (18)/data.csv'\n",
    "data_folder_path = '/Users/md35727/Downloads/data (18)/'\n",
    "participant_identifier_var = \"participant_info:1\"\n",
    "\n",
    "participant_info = pd.read_csv(data_csv_path, index_col= False)"
   ]
  },
  {
   "cell_type": "code",
   "execution_count": 30,
   "metadata": {},
   "outputs": [
    {
     "name": "stdout",
     "output_type": "stream",
     "text": [
      "Participant 2 is already in REDCap.\n",
      "Participant 1 is already in REDCap.\n"
     ]
    }
   ],
   "source": [
    "for i in range(len(participant_info.index)):\n",
    "    #is participant data already in REDCap\n",
    "    duplicate_participant = False\n",
    "    participant_id = participant_info.loc[i, participant_identifier_var]\n",
    "    textfile = participant_info.loc[i, \"igt_experiment:1\"]\n",
    "    subset = project.export_records(fields=['participant_id', 'iowa_gambling_task_igt_complete'])\n",
    "    for s in subset:\n",
    "        if (str(s['participant_id']) == str(participant_id) and s['iowa_gambling_task_igt_complete'] == '1'):\n",
    "            duplicate_participant = True\n",
    "            print('Participant ' + str(participant_id) + ' is already in REDCap.')\n",
    "    if not duplicate_participant:\n",
    "        with open(data_folder_path + textfile) as myfile:\n",
    "            lines = list(myfile) \n",
    "            igt_choices = []\n",
    "            igt_holdings = lines[99].split(\" \")[2]\n",
    "            igt_disadvantageous = 0\n",
    "            igt_advantageous = 0\n",
    "            igt_frequent_loss = 0\n",
    "            igt_infrequent_loss = 0\n",
    "            for i in range(len(lines)):   \n",
    "                current_line = lines[i].split(\" \")\n",
    "                if(current_line[1] == '1'):\n",
    "                    igt_disadvantageous+=1\n",
    "                    igt_frequent_loss+=1\n",
    "                elif(current_line[1] == '2'):\n",
    "                    igt_disadvantageous+=1\n",
    "                    igt_infrequent_loss+=1\n",
    "                elif(current_line[1] == '3'):\n",
    "                    igt_advantageous+=1\n",
    "                    igt_frequent_loss+=1\n",
    "                elif(current_line[1] == '4'):\n",
    "                    igt_advantageous+=1\n",
    "                    igt_infrequent_loss+=1\n",
    "                igt_choices.append(current_line[1])\n",
    "                igt_ltc_index = igt_advantageous - igt_disadvantageous\n",
    "                igt_ifl_index = igt_infrequent_loss - igt_frequent_loss\n",
    "            data_dict = {'participant_id': int(participant_id), \n",
    "                 'igt_101': igt_holdings, 'igt_102': igt_advantageous,\n",
    "                 'igt_103': igt_disadvantageous, 'igt_104': igt_frequent_loss, \n",
    "                 'igt_105': igt_infrequent_loss, 'igt_106': igt_ltc_index, \n",
    "                 'igt_107': igt_ifl_index, 'iowa_gambling_task_igt_complete': 1}\n",
    "            for i in range(len(igt_choices)):\n",
    "                if(i < 9):\n",
    "                    data_dict['igt_0' + str(i+1)] = igt_choices[i]\n",
    "                elif(i >= 9):\n",
    "                    data_dict['igt_' + str(i+1)] = igt_choices[i]\n",
    "            import_data = project.import_records([data_dict])\n",
    "            print('Participant ' + str(participant_id) + ' data has been added to REDCap.')\n"
   ]
  }
 ],
 "metadata": {
  "kernelspec": {
   "display_name": "Python 3",
   "language": "python",
   "name": "python3"
  },
  "language_info": {
   "codemirror_mode": {
    "name": "ipython",
    "version": 3
   },
   "file_extension": ".py",
   "mimetype": "text/x-python",
   "name": "python",
   "nbconvert_exporter": "python",
   "pygments_lexer": "ipython3",
   "version": "3.6.8"
  },
  "widgets": {
   "application/vnd.jupyter.widget-state+json": {
    "state": {},
    "version_major": 2,
    "version_minor": 0
   }
  }
 },
 "nbformat": 4,
 "nbformat_minor": 2
}
