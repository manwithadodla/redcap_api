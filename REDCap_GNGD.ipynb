{
 "cells": [
  {
   "cell_type": "code",
   "execution_count": 1,
   "metadata": {},
   "outputs": [],
   "source": [
    "import pandas as pd\n",
    "import numpy as np\n",
    "import redcap\n",
    "\n",
    "API_Token = ''\n",
    "project = redcap.Project('https://redcap.prc.utexas.edu/redcap/api/', API_Token)\n",
    "\n",
    "data_csv_path = '/Users/md35727/Downloads/data (11)/data.csv'\n",
    "data_folder_path = '/Users/md35727/Downloads/data (11)/'\n",
    "participant_identifier_var = \"participant_info:1\"\n",
    "\n",
    "participant_info = pd.read_csv(data_csv_path, index_col= False)"
   ]
  },
  {
   "cell_type": "code",
   "execution_count": 6,
   "metadata": {},
   "outputs": [
    {
     "name": "stdout",
     "output_type": "stream",
     "text": [
      "Participant 5 is already in REDCap.\n",
      "Participant 1 is already in REDCap.\n"
     ]
    }
   ],
   "source": [
    "#looping through indicies in data excel\n",
    "for i in range(len(participant_info.index)):\n",
    "    duplicate_participant = False\n",
    "    participant_id = participant_info.loc[i, participant_identifier_var]\n",
    "    textfile = participant_info.loc[i, \"go_nogo_task:1\"]\n",
    "    subset = project.export_records(fields=['participant_id', 'gono_go_gnt_complete'])\n",
    "    for s in subset:\n",
    "        if (str(s['participant_id']) == str(participant_id) and s['gono_go_gnt_complete'] == '1'):\n",
    "            duplicate_participant = True\n",
    "            print('Participant ' + str(participant_id) + ' is already in REDCap.')\n",
    "    if not duplicate_participant:\n",
    "        if (type(textfile) == str):\n",
    "            print(textfile)\n",
    "            with open(data_folder_path + textfile) as myfile:\n",
    "                lines = list(myfile)\n",
    "                lines_list = lines[-1:]\n",
    "                line1 = lines_list[0].split(\" \")\n",
    "                accuracy = (line1[0])\n",
    "                commission = (line1[1])\n",
    "                omission = (line1[2])\n",
    "                commission_rt = (line1[3])\n",
    "                overall_rt = (line1[4].split('\\n')[0])\n",
    "            data = [{'participant_id': int(participant_id),\n",
    "                     'gngd_accuracy': accuracy, 'gngd_response_time': overall_rt, 'gngd_omission': omission,\n",
    "                     'gngd_commission': commission, 'gngd_commission_rt': commission_rt,\n",
    "                     'gono_go_gnt_complete': 1}]\n",
    "            import_data = project.import_records(data)\n",
    "            print('Participant ' + str(participant_id) + ' data has been added to REDCap.')\n",
    "\n"
   ]
  }
 ],
 "metadata": {
  "kernelspec": {
   "display_name": "Python 3",
   "language": "python",
   "name": "python3"
  },
  "language_info": {
   "codemirror_mode": {
    "name": "ipython",
    "version": 3
   },
   "file_extension": ".py",
   "mimetype": "text/x-python",
   "name": "python",
   "nbconvert_exporter": "python",
   "pygments_lexer": "ipython3",
   "version": "3.6.8"
  }
 },
 "nbformat": 4,
 "nbformat_minor": 2
}
