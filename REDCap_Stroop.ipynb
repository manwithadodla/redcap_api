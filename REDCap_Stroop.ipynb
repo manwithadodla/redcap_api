{
 "cells": [
  {
   "cell_type": "code",
   "execution_count": 1,
   "metadata": {},
   "outputs": [],
   "source": [
    "import pandas as pd\n",
    "import numpy as np\n",
    "import redcap\n",
    "\n",
    "API_Token = ''\n",
    "project = redcap.Project('https://redcap.prc.utexas.edu/redcap/api/', API_Token)\n",
    "\n",
    "data_csv_path = '/Users/md35727/Downloads/data (12)/data.csv'\n",
    "data_folder_path = '/Users/md35727/Downloads/data (12)/'\n",
    "participant_identifier_var = \"participant_info:1\"\n",
    "\n",
    "participant_info = pd.read_csv(data_csv_path, index_col= False)"
   ]
  },
  {
   "cell_type": "code",
   "execution_count": 8,
   "metadata": {},
   "outputs": [
    {
     "name": "stdout",
     "output_type": "stream",
     "text": [
      "Participant 1 is already in REDCap.\n"
     ]
    }
   ],
   "source": [
    "#looping through indicies in data excel\n",
    "for i in range(len(participant_info.index)):\n",
    "    duplicate_participant = False\n",
    "    participant_id = participant_info.loc[i, participant_identifier_var]\n",
    "    textfile = participant_info.loc[i, \"stroop_task:1\"]\n",
    "    subset = project.export_records(fields=['participant_id', 'stroop_task_st_complete'])\n",
    "    for s in subset:\n",
    "        if (str(s['participant_id']) == str(participant_id) and s['stroop_task_st_complete'] == '1'):\n",
    "            duplicate_participant = True\n",
    "            print('Participant ' + str(participant_id) + ' is already in REDCap.')\n",
    "    if not duplicate_participant:\n",
    "        if (type(textfile) == str):\n",
    "            print(textfile)\n",
    "            with open(data_folder_path + textfile) as myfile:\n",
    "                lines = list(myfile)\n",
    "                lines_list = lines[-3:]\n",
    "                line1 = lines_list[0].split(\" \")\n",
    "                l1_accuracy = (line1[0])\n",
    "                l1_accuracy_rt = (line1[1])\n",
    "                l1_missed_rt = (line1[2])\n",
    "                l1_overall_rt = (line1[3].split('\\n')[0])\n",
    "                line2 = lines_list[1].split(\" \")\n",
    "                l2_accuracy = (line2[0])\n",
    "                l2_accuracy_rt = (line2[1])\n",
    "                l2_missed_rt = (line2[2])\n",
    "                l2_overall_rt = (line2[3].split('\\n')[0])\n",
    "                line3 = lines_list[2].split(\" \")\n",
    "                l3_accuracy = (line3[0])\n",
    "                l3_accuracy_rt = (line3[1])\n",
    "                con_accuracy = (line3[2])\n",
    "                con_accuracy_rt = (line3[3])\n",
    "                incon_accuracy = (line3[4])\n",
    "                incon_accuracy_rt = (line3[5].split('\\n')[0])\n",
    "            data = [{'participant_id': int(participant_id),\n",
    "                     'st_l1_accuracy': l1_accuracy, 'st_l1_accurate_rt': l1_accuracy_rt, 'st_l1_missed_rt': l1_missed_rt, 'st_l1_overall_rt': l1_overall_rt, \n",
    "                     'st_l2_accuracy': l2_accuracy, 'st_l2_accurate_rt': l2_accuracy_rt, 'st_l2_missed_rt': l2_missed_rt, 'st_l2_overall_rt': l2_overall_rt,\n",
    "                     'st_l3_accuracy': l3_accuracy, 'st_l3_accuracy_rt': l3_accuracy_rt, 'st_l3_con_accuracy': con_accuracy,\n",
    "                     'st_l3_con_accuracy_rt': con_accuracy_rt, 'st_l3_incon_accuracy': incon_accuracy, 'st_l3_incon_accuracy_rt': incon_accuracy_rt,\n",
    "                     'stroop_task_st_complete': 1}]\n",
    "            import_data = project.import_records(data)\n",
    "            print('Participant ' + str(participant_id) + ' data has been added to REDCap.')"
   ]
  }
 ],
 "metadata": {
  "kernelspec": {
   "display_name": "Python 3",
   "language": "python",
   "name": "python3"
  },
  "language_info": {
   "codemirror_mode": {
    "name": "ipython",
    "version": 3
   },
   "file_extension": ".py",
   "mimetype": "text/x-python",
   "name": "python",
   "nbconvert_exporter": "python",
   "pygments_lexer": "ipython3",
   "version": "3.6.8"
  }
 },
 "nbformat": 4,
 "nbformat_minor": 2
}
