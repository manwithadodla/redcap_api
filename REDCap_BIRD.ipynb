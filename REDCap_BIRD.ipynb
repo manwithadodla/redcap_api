{
 "cells": [
  {
   "cell_type": "code",
   "execution_count": 13,
   "metadata": {},
   "outputs": [],
   "source": [
    "import pandas as pd\n",
    "import numpy as np\n",
    "import redcap\n",
    "\n",
    "API_Token = ''\n",
    "project = redcap.Project('https://redcap.prc.utexas.edu/redcap/api/', API_Token)\n",
    "\n",
    "data_csv_path = '/Users/md35727/Downloads/data 2/data.csv'\n",
    "data_folder_path = '/Users/md35727/Downloads/data 2/'\n",
    "participant_identifier_var = \"participant_info:1\"\n",
    "\n",
    "participant_info = pd.read_csv(data_csv_path, index_col= False)"
   ]
  },
  {
   "cell_type": "code",
   "execution_count": 20,
   "metadata": {},
   "outputs": [
    {
     "name": "stdout",
     "output_type": "stream",
     "text": [
      "Participant 999 is already in REDCap.\n"
     ]
    }
   ],
   "source": [
    "#looping through indicies in data csv\n",
    "for i in range(len(participant_info.index)):\n",
    "    duplicate_participant = False\n",
    "    participant_id = participant_info.loc[i, participant_identifier_var]\n",
    "    textfile = participant_info.loc[i, \"bird_experiment:1\"]\n",
    "    subset = project.export_records(fields=['participant_id',\n",
    "        'behavioral_indicator_of_resiliency_to_distress_bir_complete'])\n",
    "    for s in subset:\n",
    "        if (str(s['participant_id']) == str(participant_id) \n",
    "            and s['behavioral_indicator_of_resiliency_to_distress_bir_complete'] == '1'):\n",
    "            duplicate_participant = True\n",
    "            print('Participant ' + str(participant_id) + ' is already in REDCap.')\n",
    "    if not duplicate_participant:    \n",
    "        if (type(textfile) == str):\n",
    "            print(textfile)\n",
    "            with open(data_folder_path + textfile) as myfile:\n",
    "                lines = list(myfile)\n",
    "                lines_list = lines[-4:]\n",
    "                line1 = lines_list[0].split(\" \")\n",
    "                score1 = (line1[1])\n",
    "                wrong1 = (line1[2])\n",
    "                missed1 = (line1[3])\n",
    "                latency = (line1[4].split('\\n')[0])\n",
    "                line2 = lines_list[1].split(\" \")\n",
    "                score2 = (line2[1])\n",
    "                wrong2 = (line2[2])\n",
    "                missed2 = (line2[3].split('\\n')[0] )   \n",
    "                line3 = lines_list[2].split(\" \")\n",
    "                score3 = (line3[1])\n",
    "                wrong3 = (line3[2])\n",
    "                missed3 = (line3[3].split('\\n')[0])\n",
    "                line4 = lines_list[3].split(\" \")\n",
    "                score = (line4[1])\n",
    "                wrong = (line4[2])\n",
    "                missed = (line4[3])\n",
    "                quittime = (line4[4].split('\\n')[0])\n",
    "            data = [{'participant_id': int(participant_id), 'bird_01': latency, 'bird_03': score, 'bird_04': score1, 'bird_05': score2,\n",
    "                     'bird_06': score3, 'bird_07': wrong, 'bird_08': wrong1, 'bird_09': wrong2, 'bird_10': wrong3, \n",
    "                     'bird_11': missed, 'bird_12': missed1, 'bird_13': missed2, 'bird_14': missed3, 'bird_15': quittime,\n",
    "                     'behavioral_indicator_of_resiliency_to_distress_bir_complete': 1}]\n",
    "            import_data = project.import_records(data)\n",
    "            print('Participant ' + str(participant_id) + ' data has been added to REDCap.')\n"
   ]
  }
 ],
 "metadata": {
  "kernelspec": {
   "display_name": "Python 3",
   "language": "python",
   "name": "python3"
  },
  "language_info": {
   "codemirror_mode": {
    "name": "ipython",
    "version": 3
   },
   "file_extension": ".py",
   "mimetype": "text/x-python",
   "name": "python",
   "nbconvert_exporter": "python",
   "pygments_lexer": "ipython3",
   "version": "3.6.8"
  },
  "widgets": {
   "application/vnd.jupyter.widget-state+json": {
    "state": {},
    "version_major": 2,
    "version_minor": 0
   }
  }
 },
 "nbformat": 4,
 "nbformat_minor": 2
}
